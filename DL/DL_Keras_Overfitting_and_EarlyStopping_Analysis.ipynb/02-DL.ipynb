{
  "nbformat": 4,
  "nbformat_minor": 0,
  "metadata": {
    "colab": {
      "provenance": []
    },
    "kernelspec": {
      "name": "python3",
      "display_name": "Python 3"
    },
    "language_info": {
      "name": "python"
    }
  },
  "cells": [
    {
      "cell_type": "code",
      "execution_count": 2,
      "metadata": {
        "colab": {
          "base_uri": "https://localhost:8080/",
          "height": 1000
        },
        "id": "O2rK0yZMhVPW",
        "outputId": "1a62dc81-36f3-4439-f913-9268e01dac05"
      },
      "outputs": [
        {
          "output_type": "stream",
          "name": "stdout",
          "text": [
            "Keras Current Version: 3.8.0 Tensorflow Current Version: 2.16.1\n",
            "\u001b[33mWARNING: Skipping tf-keras as it is not installed.\u001b[0m\u001b[33m\n",
            "\u001b[0mRequirement already satisfied: tensorflow==2.16.1 in /usr/local/lib/python3.11/dist-packages (2.16.1)\n",
            "Requirement already satisfied: absl-py>=1.0.0 in /usr/local/lib/python3.11/dist-packages (from tensorflow==2.16.1) (1.4.0)\n",
            "Requirement already satisfied: astunparse>=1.6.0 in /usr/local/lib/python3.11/dist-packages (from tensorflow==2.16.1) (1.6.3)\n",
            "Requirement already satisfied: flatbuffers>=23.5.26 in /usr/local/lib/python3.11/dist-packages (from tensorflow==2.16.1) (25.2.10)\n",
            "Requirement already satisfied: gast!=0.5.0,!=0.5.1,!=0.5.2,>=0.2.1 in /usr/local/lib/python3.11/dist-packages (from tensorflow==2.16.1) (0.6.0)\n",
            "Requirement already satisfied: google-pasta>=0.1.1 in /usr/local/lib/python3.11/dist-packages (from tensorflow==2.16.1) (0.2.0)\n",
            "Requirement already satisfied: h5py>=3.10.0 in /usr/local/lib/python3.11/dist-packages (from tensorflow==2.16.1) (3.12.1)\n",
            "Requirement already satisfied: libclang>=13.0.0 in /usr/local/lib/python3.11/dist-packages (from tensorflow==2.16.1) (18.1.1)\n",
            "Requirement already satisfied: ml-dtypes~=0.3.1 in /usr/local/lib/python3.11/dist-packages (from tensorflow==2.16.1) (0.3.2)\n",
            "Requirement already satisfied: opt-einsum>=2.3.2 in /usr/local/lib/python3.11/dist-packages (from tensorflow==2.16.1) (3.4.0)\n",
            "Requirement already satisfied: packaging in /usr/local/lib/python3.11/dist-packages (from tensorflow==2.16.1) (24.2)\n",
            "Requirement already satisfied: protobuf!=4.21.0,!=4.21.1,!=4.21.2,!=4.21.3,!=4.21.4,!=4.21.5,<5.0.0dev,>=3.20.3 in /usr/local/lib/python3.11/dist-packages (from tensorflow==2.16.1) (4.25.6)\n",
            "Requirement already satisfied: requests<3,>=2.21.0 in /usr/local/lib/python3.11/dist-packages (from tensorflow==2.16.1) (2.32.3)\n",
            "Requirement already satisfied: setuptools in /usr/local/lib/python3.11/dist-packages (from tensorflow==2.16.1) (75.1.0)\n",
            "Requirement already satisfied: six>=1.12.0 in /usr/local/lib/python3.11/dist-packages (from tensorflow==2.16.1) (1.17.0)\n",
            "Requirement already satisfied: termcolor>=1.1.0 in /usr/local/lib/python3.11/dist-packages (from tensorflow==2.16.1) (2.5.0)\n",
            "Requirement already satisfied: typing-extensions>=3.6.6 in /usr/local/lib/python3.11/dist-packages (from tensorflow==2.16.1) (4.12.2)\n",
            "Requirement already satisfied: wrapt>=1.11.0 in /usr/local/lib/python3.11/dist-packages (from tensorflow==2.16.1) (1.17.2)\n",
            "Requirement already satisfied: grpcio<2.0,>=1.24.3 in /usr/local/lib/python3.11/dist-packages (from tensorflow==2.16.1) (1.70.0)\n",
            "Requirement already satisfied: tensorboard<2.17,>=2.16 in /usr/local/lib/python3.11/dist-packages (from tensorflow==2.16.1) (2.16.2)\n",
            "Requirement already satisfied: keras>=3.0.0 in /usr/local/lib/python3.11/dist-packages (from tensorflow==2.16.1) (3.8.0)\n",
            "Requirement already satisfied: tensorflow-io-gcs-filesystem>=0.23.1 in /usr/local/lib/python3.11/dist-packages (from tensorflow==2.16.1) (0.37.1)\n",
            "Requirement already satisfied: numpy<2.0.0,>=1.23.5 in /usr/local/lib/python3.11/dist-packages (from tensorflow==2.16.1) (1.26.4)\n",
            "Requirement already satisfied: wheel<1.0,>=0.23.0 in /usr/local/lib/python3.11/dist-packages (from astunparse>=1.6.0->tensorflow==2.16.1) (0.45.1)\n",
            "Requirement already satisfied: rich in /usr/local/lib/python3.11/dist-packages (from keras>=3.0.0->tensorflow==2.16.1) (13.9.4)\n",
            "Requirement already satisfied: namex in /usr/local/lib/python3.11/dist-packages (from keras>=3.0.0->tensorflow==2.16.1) (0.0.8)\n",
            "Requirement already satisfied: optree in /usr/local/lib/python3.11/dist-packages (from keras>=3.0.0->tensorflow==2.16.1) (0.14.1)\n",
            "Requirement already satisfied: charset-normalizer<4,>=2 in /usr/local/lib/python3.11/dist-packages (from requests<3,>=2.21.0->tensorflow==2.16.1) (3.4.1)\n",
            "Requirement already satisfied: idna<4,>=2.5 in /usr/local/lib/python3.11/dist-packages (from requests<3,>=2.21.0->tensorflow==2.16.1) (3.10)\n",
            "Requirement already satisfied: urllib3<3,>=1.21.1 in /usr/local/lib/python3.11/dist-packages (from requests<3,>=2.21.0->tensorflow==2.16.1) (2.3.0)\n",
            "Requirement already satisfied: certifi>=2017.4.17 in /usr/local/lib/python3.11/dist-packages (from requests<3,>=2.21.0->tensorflow==2.16.1) (2025.1.31)\n",
            "Requirement already satisfied: markdown>=2.6.8 in /usr/local/lib/python3.11/dist-packages (from tensorboard<2.17,>=2.16->tensorflow==2.16.1) (3.7)\n",
            "Requirement already satisfied: tensorboard-data-server<0.8.0,>=0.7.0 in /usr/local/lib/python3.11/dist-packages (from tensorboard<2.17,>=2.16->tensorflow==2.16.1) (0.7.2)\n",
            "Requirement already satisfied: werkzeug>=1.0.1 in /usr/local/lib/python3.11/dist-packages (from tensorboard<2.17,>=2.16->tensorflow==2.16.1) (3.1.3)\n",
            "Requirement already satisfied: MarkupSafe>=2.1.1 in /usr/local/lib/python3.11/dist-packages (from werkzeug>=1.0.1->tensorboard<2.17,>=2.16->tensorflow==2.16.1) (3.0.2)\n",
            "Requirement already satisfied: markdown-it-py>=2.2.0 in /usr/local/lib/python3.11/dist-packages (from rich->keras>=3.0.0->tensorflow==2.16.1) (3.0.0)\n",
            "Requirement already satisfied: pygments<3.0.0,>=2.13.0 in /usr/local/lib/python3.11/dist-packages (from rich->keras>=3.0.0->tensorflow==2.16.1) (2.18.0)\n",
            "Requirement already satisfied: mdurl~=0.1 in /usr/local/lib/python3.11/dist-packages (from markdown-it-py>=2.2.0->rich->keras>=3.0.0->tensorflow==2.16.1) (0.1.2)\n",
            "tensorflow\n",
            "X_train: (614, 8) X_val: (154, 8)\n",
            "\n",
            "-- Val setinden 1. gözlem --\n",
            "Features: [0.41176471 0.79899497 0.52459016 0.         0.         0.40834575\n",
            " 0.09222886 0.31666667] \n",
            "Label: 0\n",
            "\n",
            "-- Val seti 10. batch (indeks=9) --\n",
            "\n",
            "[Ders Modeli - 100 epoch] val_loss: 0.495, val_acc: 0.721\n"
          ]
        },
        {
          "output_type": "display_data",
          "data": {
            "text/plain": [
              "\u001b[1mModel: \"sequential_1\"\u001b[0m\n"
            ],
            "text/html": [
              "<pre style=\"white-space:pre;overflow-x:auto;line-height:normal;font-family:Menlo,'DejaVu Sans Mono',consolas,'Courier New',monospace\"><span style=\"font-weight: bold\">Model: \"sequential_1\"</span>\n",
              "</pre>\n"
            ]
          },
          "metadata": {}
        },
        {
          "output_type": "display_data",
          "data": {
            "text/plain": [
              "┏━━━━━━━━━━━━━━━━━━━━━━━━━━━━━━━━━━━━━━┳━━━━━━━━━━━━━━━━━━━━━━━━━━━━━┳━━━━━━━━━━━━━━━━━┓\n",
              "┃\u001b[1m \u001b[0m\u001b[1mLayer (type)                        \u001b[0m\u001b[1m \u001b[0m┃\u001b[1m \u001b[0m\u001b[1mOutput Shape               \u001b[0m\u001b[1m \u001b[0m┃\u001b[1m \u001b[0m\u001b[1m        Param #\u001b[0m\u001b[1m \u001b[0m┃\n",
              "┡━━━━━━━━━━━━━━━━━━━━━━━━━━━━━━━━━━━━━━╇━━━━━━━━━━━━━━━━━━━━━━━━━━━━━╇━━━━━━━━━━━━━━━━━┩\n",
              "│ dense_4 (\u001b[38;5;33mDense\u001b[0m)                      │ (\u001b[38;5;45mNone\u001b[0m, \u001b[38;5;34m32\u001b[0m)                  │             \u001b[38;5;34m288\u001b[0m │\n",
              "├──────────────────────────────────────┼─────────────────────────────┼─────────────────┤\n",
              "│ dense_5 (\u001b[38;5;33mDense\u001b[0m)                      │ (\u001b[38;5;45mNone\u001b[0m, \u001b[38;5;34m64\u001b[0m)                  │           \u001b[38;5;34m2,112\u001b[0m │\n",
              "├──────────────────────────────────────┼─────────────────────────────┼─────────────────┤\n",
              "│ dense_6 (\u001b[38;5;33mDense\u001b[0m)                      │ (\u001b[38;5;45mNone\u001b[0m, \u001b[38;5;34m128\u001b[0m)                 │           \u001b[38;5;34m8,320\u001b[0m │\n",
              "├──────────────────────────────────────┼─────────────────────────────┼─────────────────┤\n",
              "│ dense_7 (\u001b[38;5;33mDense\u001b[0m)                      │ (\u001b[38;5;45mNone\u001b[0m, \u001b[38;5;34m256\u001b[0m)                 │          \u001b[38;5;34m33,024\u001b[0m │\n",
              "├──────────────────────────────────────┼─────────────────────────────┼─────────────────┤\n",
              "│ dense_8 (\u001b[38;5;33mDense\u001b[0m)                      │ (\u001b[38;5;45mNone\u001b[0m, \u001b[38;5;34m512\u001b[0m)                 │         \u001b[38;5;34m131,584\u001b[0m │\n",
              "├──────────────────────────────────────┼─────────────────────────────┼─────────────────┤\n",
              "│ dense_9 (\u001b[38;5;33mDense\u001b[0m)                      │ (\u001b[38;5;45mNone\u001b[0m, \u001b[38;5;34m1\u001b[0m)                   │             \u001b[38;5;34m513\u001b[0m │\n",
              "└──────────────────────────────────────┴─────────────────────────────┴─────────────────┘\n"
            ],
            "text/html": [
              "<pre style=\"white-space:pre;overflow-x:auto;line-height:normal;font-family:Menlo,'DejaVu Sans Mono',consolas,'Courier New',monospace\">┏━━━━━━━━━━━━━━━━━━━━━━━━━━━━━━━━━━━━━━┳━━━━━━━━━━━━━━━━━━━━━━━━━━━━━┳━━━━━━━━━━━━━━━━━┓\n",
              "┃<span style=\"font-weight: bold\"> Layer (type)                         </span>┃<span style=\"font-weight: bold\"> Output Shape                </span>┃<span style=\"font-weight: bold\">         Param # </span>┃\n",
              "┡━━━━━━━━━━━━━━━━━━━━━━━━━━━━━━━━━━━━━━╇━━━━━━━━━━━━━━━━━━━━━━━━━━━━━╇━━━━━━━━━━━━━━━━━┩\n",
              "│ dense_4 (<span style=\"color: #0087ff; text-decoration-color: #0087ff\">Dense</span>)                      │ (<span style=\"color: #00d7ff; text-decoration-color: #00d7ff\">None</span>, <span style=\"color: #00af00; text-decoration-color: #00af00\">32</span>)                  │             <span style=\"color: #00af00; text-decoration-color: #00af00\">288</span> │\n",
              "├──────────────────────────────────────┼─────────────────────────────┼─────────────────┤\n",
              "│ dense_5 (<span style=\"color: #0087ff; text-decoration-color: #0087ff\">Dense</span>)                      │ (<span style=\"color: #00d7ff; text-decoration-color: #00d7ff\">None</span>, <span style=\"color: #00af00; text-decoration-color: #00af00\">64</span>)                  │           <span style=\"color: #00af00; text-decoration-color: #00af00\">2,112</span> │\n",
              "├──────────────────────────────────────┼─────────────────────────────┼─────────────────┤\n",
              "│ dense_6 (<span style=\"color: #0087ff; text-decoration-color: #0087ff\">Dense</span>)                      │ (<span style=\"color: #00d7ff; text-decoration-color: #00d7ff\">None</span>, <span style=\"color: #00af00; text-decoration-color: #00af00\">128</span>)                 │           <span style=\"color: #00af00; text-decoration-color: #00af00\">8,320</span> │\n",
              "├──────────────────────────────────────┼─────────────────────────────┼─────────────────┤\n",
              "│ dense_7 (<span style=\"color: #0087ff; text-decoration-color: #0087ff\">Dense</span>)                      │ (<span style=\"color: #00d7ff; text-decoration-color: #00d7ff\">None</span>, <span style=\"color: #00af00; text-decoration-color: #00af00\">256</span>)                 │          <span style=\"color: #00af00; text-decoration-color: #00af00\">33,024</span> │\n",
              "├──────────────────────────────────────┼─────────────────────────────┼─────────────────┤\n",
              "│ dense_8 (<span style=\"color: #0087ff; text-decoration-color: #0087ff\">Dense</span>)                      │ (<span style=\"color: #00d7ff; text-decoration-color: #00d7ff\">None</span>, <span style=\"color: #00af00; text-decoration-color: #00af00\">512</span>)                 │         <span style=\"color: #00af00; text-decoration-color: #00af00\">131,584</span> │\n",
              "├──────────────────────────────────────┼─────────────────────────────┼─────────────────┤\n",
              "│ dense_9 (<span style=\"color: #0087ff; text-decoration-color: #0087ff\">Dense</span>)                      │ (<span style=\"color: #00d7ff; text-decoration-color: #00d7ff\">None</span>, <span style=\"color: #00af00; text-decoration-color: #00af00\">1</span>)                   │             <span style=\"color: #00af00; text-decoration-color: #00af00\">513</span> │\n",
              "└──────────────────────────────────────┴─────────────────────────────┴─────────────────┘\n",
              "</pre>\n"
            ]
          },
          "metadata": {}
        },
        {
          "output_type": "display_data",
          "data": {
            "text/plain": [
              "\u001b[1m Total params: \u001b[0m\u001b[38;5;34m175,841\u001b[0m (686.88 KB)\n"
            ],
            "text/html": [
              "<pre style=\"white-space:pre;overflow-x:auto;line-height:normal;font-family:Menlo,'DejaVu Sans Mono',consolas,'Courier New',monospace\"><span style=\"font-weight: bold\"> Total params: </span><span style=\"color: #00af00; text-decoration-color: #00af00\">175,841</span> (686.88 KB)\n",
              "</pre>\n"
            ]
          },
          "metadata": {}
        },
        {
          "output_type": "display_data",
          "data": {
            "text/plain": [
              "\u001b[1m Trainable params: \u001b[0m\u001b[38;5;34m175,841\u001b[0m (686.88 KB)\n"
            ],
            "text/html": [
              "<pre style=\"white-space:pre;overflow-x:auto;line-height:normal;font-family:Menlo,'DejaVu Sans Mono',consolas,'Courier New',monospace\"><span style=\"font-weight: bold\"> Trainable params: </span><span style=\"color: #00af00; text-decoration-color: #00af00\">175,841</span> (686.88 KB)\n",
              "</pre>\n"
            ]
          },
          "metadata": {}
        },
        {
          "output_type": "display_data",
          "data": {
            "text/plain": [
              "\u001b[1m Non-trainable params: \u001b[0m\u001b[38;5;34m0\u001b[0m (0.00 B)\n"
            ],
            "text/html": [
              "<pre style=\"white-space:pre;overflow-x:auto;line-height:normal;font-family:Menlo,'DejaVu Sans Mono',consolas,'Courier New',monospace\"><span style=\"font-weight: bold\"> Non-trainable params: </span><span style=\"color: #00af00; text-decoration-color: #00af00\">0</span> (0.00 B)\n",
              "</pre>\n"
            ]
          },
          "metadata": {}
        },
        {
          "output_type": "stream",
          "name": "stdout",
          "text": [
            "\n",
            "[Derin Model 5 Katman] val_loss: 1.491, val_acc: 0.695\n",
            "\n",
            "[Uzun Eğitim] Gerçek epoch: 105, En iyi val_loss: 0.492\n"
          ]
        }
      ],
      "source": [
        "#______________________________________________________________________________________________\n",
        "#Install Tensorflow and Keras\n",
        "import keras\n",
        "import tensorflow as tf\n",
        "print(\"Keras Current Version:\", keras.__version__, \"Tensorflow Current Version:\", tf.__version__)\n",
        "#_____________________________________________________________________________________________\n",
        "#\n",
        "!pip uninstall tf-keras\n",
        "!pip install tensorflow==2.16.1\n",
        "\n",
        "from keras import backend\n",
        "print(backend.backend())\n",
        "\n",
        "\n",
        "\n",
        "# ──────────────────────────────────────────────────────────────────────────────\n",
        "# 1) Gerek­li Kutuphane ve Modüllerin İmport Edilmesi\n",
        "# ──────────────────────────────────────────────────────────────────────────────\n",
        "import pandas as pd\n",
        "from sklearn.preprocessing import MinMaxScaler\n",
        "from sklearn.model_selection import train_test_split\n",
        "import tensorflow as tf\n",
        "from tensorflow.keras import Sequential\n",
        "from tensorflow.keras.layers import Input, Dense\n",
        "from tensorflow.keras.callbacks import EarlyStopping\n",
        "\n",
        "# ──────────────────────────────────────────────────────────────────────────────\n",
        "# 2) Veri Ön­iş­le­me Fonksiyonu\n",
        "#    • CSV’den oku\n",
        "#    • MinMaxScaler ile [0,1] aralığına ölçeklendir\n",
        "#    • Özellik (X) ve etiket (y) matrislerini döndür\n",
        "# ──────────────────────────────────────────────────────────────────────────────\n",
        "data_path = '/content/drive/MyDrive/diabetes.csv adlı dosyanın kopyası'\n",
        "def preprocess_data(filepath):\n",
        "    data = pd.read_csv(filepath)\n",
        "    scaler = MinMaxScaler()\n",
        "    X = scaler.fit_transform(data.drop('Outcome', axis=1))\n",
        "    y = data['Outcome'].values\n",
        "    return X, y\n",
        "\n",
        "# Örnek: diabetes.csv dosyasını kullanarak veriyi hazırla\n",
        "X, y = preprocess_data('/content/drive/MyDrive/diabetes.csv adlı dosyanın kopyası')\n",
        "\n",
        "# ──────────────────────────────────────────────────────────────────────────────\n",
        "# 3) Train–Validation Ayrımı\n",
        "#    • %80 eğitim, %20 doğrulama\n",
        "#    • Sınıf dengesini korumak için stratify=y\n",
        "# ──────────────────────────────────────────────────────────────────────────────\n",
        "X_train, X_val, y_train, y_val = train_test_split(\n",
        "    X, y, test_size=0.2, random_state=42, stratify=y\n",
        ")\n",
        "print(\"X_train:\", X_train.shape, \"X_val:\", X_val.shape)\n",
        "\n",
        "# ──────────────────────────────────────────────────────────────────────────────\n",
        "# 4) tf.data Dataset Oluşturma\n",
        "#    • from_tensor_slices ile dönüştür\n",
        "#    • shuffle + batch + prefetch ile pipeline hazırla\n",
        "# ──────────────────────────────────────────────────────────────────────────────\n",
        "train_ds = (\n",
        "    tf.data.Dataset\n",
        "      .from_tensor_slices((X_train, y_train))\n",
        "      .shuffle(buffer_size=len(X_train))\n",
        "      .batch(32)\n",
        "      .prefetch(tf.data.AUTOTUNE)\n",
        ")\n",
        "val_ds = (\n",
        "    tf.data.Dataset\n",
        "      .from_tensor_slices((X_val, y_val))\n",
        "      .batch(32)\n",
        "      .prefetch(tf.data.AUTOTUNE)\n",
        ")\n",
        "\n",
        "# ──────────────────────────────────────────────────────────────────────────────\n",
        "# 5) TensorFlow Dataset’ten Örnek İnceleme\n",
        "#    • Birinci gözlemi yazdır\n",
        "#    • 10. batch’in features & labels değerlerini incele\n",
        "# ──────────────────────────────────────────────────────────────────────────────\n",
        "print(\"\\n-- Val setinden 1. gözlem --\")\n",
        "for feat, lab in val_ds.take(1):\n",
        "    print(\"Features:\", feat.numpy()[0], \"\\nLabel:\", lab.numpy()[0])\n",
        "\n",
        "print(\"\\n-- Val seti 10. batch (indeks=9) --\")\n",
        "for idx, (feat_batch, lab_batch) in enumerate(val_ds):\n",
        "    if idx == 9:\n",
        "        print(\"Features batch[0]:\", feat_batch.numpy()[0])\n",
        "        print(\"Labels batch[0]:\", lab_batch.numpy()[0])\n",
        "        break\n",
        "\n",
        "# ──────────────────────────────────────────────────────────────────────────────\n",
        "# 6) Ders Modeli ile 100 Epoch Eğitim\n",
        "#    • 2 katmanlı basit model\n",
        "#    • Adam, binary_crossentropy, accuracy\n",
        "#    • Son val_loss / val_accuracy yazdır ve yorum satırı bırak\n",
        "# ──────────────────────────────────────────────────────────────────────────────\n",
        "model_simple = Sequential([\n",
        "    Input(shape=(8,)),\n",
        "    Dense(32, activation='relu'),\n",
        "    Dense(16, activation='relu'),\n",
        "    Dense(8,  activation='relu'),\n",
        "    Dense(1,  activation='sigmoid'),\n",
        "])\n",
        "model_simple.compile(\n",
        "    optimizer='adam',\n",
        "    loss='binary_crossentropy',\n",
        "    metrics=['accuracy']\n",
        ")\n",
        "history_simple = model_simple.fit(\n",
        "    train_ds, validation_data=val_ds,\n",
        "    epochs=100, verbose=0\n",
        ")\n",
        "val_loss_100 = history_simple.history['val_loss'][-1]\n",
        "val_acc_100  = history_simple.history['val_accuracy'][-1]\n",
        "print(f\"\\n[Ders Modeli - 100 epoch] val_loss: {val_loss_100:.3f}, val_acc: {val_acc_100:.3f}\")\n",
        "# Yorum: Eğer val_acc ≈ %70’in altında kaldıysa under-fit, %85’i aşarsa over-fit riski var.\n",
        "\n",
        "# ──────────────────────────────────────────────────────────────────────────────\n",
        "# 7) Derin Model: 5 Katman, [32,64,128,256,512] Nöron\n",
        "#    • Aynı optimizer/loss/metric\n",
        "#    • Epoch=100, yorum bırak\n",
        "# ──────────────────────────────────────────────────────────────────────────────\n",
        "model_deep = Sequential([\n",
        "    Input(shape=(8,)),\n",
        "    Dense(32,  activation='relu'),\n",
        "    Dense(64,  activation='relu'),\n",
        "    Dense(128, activation='relu'),\n",
        "    Dense(256, activation='relu'),\n",
        "    Dense(512, activation='relu'),\n",
        "    Dense(1,   activation='sigmoid'),\n",
        "])\n",
        "model_deep.compile(\n",
        "    optimizer='adam',\n",
        "    loss='binary_crossentropy',\n",
        "    metrics=['accuracy']\n",
        ")\n",
        "model_deep.summary()\n",
        "history_deep = model_deep.fit(\n",
        "    train_ds, validation_data=val_ds,\n",
        "    epochs=100, verbose=0\n",
        ")\n",
        "val_loss_deep = history_deep.history['val_loss'][-1]\n",
        "val_acc_deep  = history_deep.history['val_accuracy'][-1]\n",
        "print(f\"\\n[Derin Model 5 Katman] val_loss: {val_loss_deep:.3f}, val_acc: {val_acc_deep:.3f}\")\n",
        "# Yorum: Parametre sayısı arttıkça over-fit riski yükselir; regularization gerekebilir.\n",
        "\n",
        "# ──────────────────────────────────────────────────────────────────────────────\n",
        "# 8) Uzun Eğitim: 10.000 Epoch + EarlyStopping\n",
        "#    • patience=50, restore_best_weights=True\n",
        "#    • Gerçek epoch sayısını ve en iyi val_loss’i yazdır\n",
        "# ──────────────────────────────────────────────────────────────────────────────\n",
        "es = EarlyStopping(\n",
        "    monitor='val_loss',\n",
        "    patience=50,\n",
        "    restore_best_weights=True,\n",
        "    verbose=0\n",
        ")\n",
        "history_long = model_simple.fit(\n",
        "    train_ds, validation_data=val_ds,\n",
        "    epochs=10000,\n",
        "    callbacks=[es],\n",
        "    verbose=0\n",
        ")\n",
        "print(f\"\\n[Uzun Eğitim] Gerçek epoch: {len(history_long.history['loss'])}, \"\n",
        "      f\"En iyi val_loss: {min(history_long.history['val_loss']):.3f}\")\n",
        "# Yorum: EarlyStopping ~150–300 epoch civarında durur; 10000 doğrudan over-fit ve zaman kaybı.\n"
      ]
    }
  ]
}